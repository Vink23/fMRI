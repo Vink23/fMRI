{
  "nbformat": 4,
  "nbformat_minor": 0,
  "metadata": {
    "colab": {
      "provenance": [],
      "gpuType": "A100",
      "machine_shape": "hm",
      "authorship_tag": "ABX9TyMCysZPsXlA7GsCkhXxV7DU"
    },
    "kernelspec": {
      "name": "python3",
      "display_name": "Python 3"
    },
    "language_info": {
      "name": "python"
    },
    "accelerator": "GPU"
  },
  "cells": [
    {
      "cell_type": "code",
      "execution_count": null,
      "metadata": {
        "id": "RGyltWeUvMGN"
      },
      "outputs": [],
      "source": [
        "!pip install git+https://github.com/openai/whisper.git\n",
        "!sudo apt update && sudo apt install ffmpeg"
      ]
    },
    {
      "cell_type": "code",
      "source": [
        "from google.colab import files\n",
        "import os\n",
        "import whisper\n",
        "from google.colab import drive"
      ],
      "metadata": {
        "id": "8v45EvqdvfV4"
      },
      "execution_count": null,
      "outputs": []
    },
    {
      "cell_type": "code",
      "source": [
        "drive.mount('/content/drive')"
      ],
      "metadata": {
        "id": "kgZi28Pmy15h"
      },
      "execution_count": null,
      "outputs": []
    },
    {
      "cell_type": "code",
      "source": [
        "model = whisper.load_model(\"large\")"
      ],
      "metadata": {
        "id": "qmCkKrQ_zRl2"
      },
      "execution_count": null,
      "outputs": []
    },
    {
      "cell_type": "code",
      "source": [
        "audio_dir = \"/content/drive/MyDrive/fMRI/stimuli\"\n",
        "audio_files = [f for f in os.listdir(audio_dir) if f.endswith(\".wav\")]"
      ],
      "metadata": {
        "id": "zraNuKyHwKmd"
      },
      "execution_count": null,
      "outputs": []
    },
    {
      "cell_type": "code",
      "source": [
        "for file in audio_files:\n",
        "    file_path = os.path.join(audio_dir, file)\n",
        "    print(f\"Transcribing: {file}\")\n",
        "    result = model.transcribe(file_path, fp16=True, temperature=0.0)\n",
        "\n",
        "\n",
        "    out_path = os.path.join(audio_dir, file.replace(\".wav\", \"_transcript.txt\"))\n",
        "    with open(out_path, \"w\") as f:\n",
        "        f.write(result[\"text\"])"
      ],
      "metadata": {
        "id": "Q4jIO1J9wWC3"
      },
      "execution_count": null,
      "outputs": []
    },
    {
      "cell_type": "code",
      "source": [
        "for file in os.listdir(audio_dir):\n",
        "    if file.endswith(\".wav\"):\n",
        "        transcript_path = os.path.join(audio_dir, file.replace(\".wav\", \"_transcript.txt\"))\n",
        "\n",
        "\n",
        "        if os.path.exists(transcript_path):\n",
        "            print(f\"Skipping {file} (transcript already exists)\")\n",
        "            continue\n",
        "\n",
        "        file_path = os.path.join(audio_dir, file)\n",
        "        print(f\"Transcribing {file}...\")\n",
        "\n",
        "\n",
        "        result = model.transcribe(file_path, fp16=True, temperature=0.0)\n",
        "\n",
        "        with open(transcript_path, \"w\") as f:\n",
        "            f.write(result[\"text\"])\n",
        "\n",
        "        print(f\"Saved transcript for {file}\")"
      ],
      "metadata": {
        "id": "QHR10w1UwWQR"
      },
      "execution_count": null,
      "outputs": []
    },
    {
      "cell_type": "code",
      "source": [
        "\n",
        "missing_transcripts = []\n",
        "\n",
        "\n",
        "for file in os.listdir(audio_dir):\n",
        "    if file.endswith(\".wav\"):\n",
        "        expected_transcript = file.replace(\".wav\", \"_transcript.txt\")\n",
        "        transcript_path = os.path.join(audio_dir, expected_transcript)\n",
        "\n",
        "        if not os.path.exists(transcript_path):\n",
        "            missing_transcripts.append(file)\n",
        "\n",
        "if missing_transcripts:\n",
        "    print(\"Missing transcripts for the following audio files:\")\n",
        "    for f in missing_transcripts:\n",
        "        print(\" -\", f)\n",
        "else:\n",
        "    print(\"All .wav files have corresponding transcript files.\")\n"
      ],
      "metadata": {
        "id": "J4e2jkYowWTh"
      },
      "execution_count": null,
      "outputs": []
    }
  ]
}