{
  "cells": [
    {
      "cell_type": "code",
      "source": [
        "!pip install nibabel nilearn matplotlib nilearn[plotting] --quiet\n",
        "!pip install bids-validator --quiet"
      ],
      "metadata": {
        "id": "lgyp-uj9CMYu"
      },
      "execution_count": null,
      "outputs": []
    },
    {
      "cell_type": "code",
      "source": [
        "from google.colab import drive\n",
        "drive.mount('/content/drive')"
      ],
      "metadata": {
        "id": "J1sCVUDAGyn_"
      },
      "execution_count": null,
      "outputs": []
    },
    {
      "cell_type": "code",
      "source": [
        "import os\n",
        "import numpy as np\n",
        "import nibabel as nib\n",
        "import matplotlib.pyplot as plt\n",
        "from nilearn import plotting, image, masking\n",
        "from nilearn.glm.first_level import FirstLevelModel\n",
        "from bids_validator import BIDSValidator\n",
        "import pandas as pd\n",
        "import ipywidgets as widgets\n",
        "from IPython.display import display\n",
        "from nilearn.glm.first_level import FirstLevelModel\n",
        "from nilearn import plotting\n",
        "import numpy as np\n",
        "import pandas as pd\n",
        "import matplotlib.pyplot as plt\n",
        "from nilearn.glm.first_level import FirstLevelModel\n",
        "from nilearn import image, masking, plotting\n"
      ],
      "metadata": {
        "id": "frYavhFBE37z"
      },
      "execution_count": null,
      "outputs": []
    },
    {
      "cell_type": "code",
      "source": [
        "def validate_bids_structure(bids_path):\n",
        "    validator = BIDSValidator()\n",
        "    is_valid = validator.is_bids(bids_path)\n",
        "    print(f\"BIDS validation for {bids_path}: {'Valid' if is_valid else 'Invalid'}\")\n",
        "    return is_valid"
      ],
      "metadata": {
        "id": "sChTt7h2PQ_R"
      },
      "execution_count": null,
      "outputs": []
    },
    {
      "cell_type": "code",
      "source": [
        "def load_nifti(file_path):\n",
        "    print(f\"Loading NIfTI file: {file_path}\")\n",
        "    return nib.load(file_path)"
      ],
      "metadata": {
        "id": "SGQ-MCI4FGpi"
      },
      "execution_count": null,
      "outputs": []
    },
    {
      "cell_type": "code",
      "source": [
        "def smooth_img(func_img, fwhm=6):\n",
        "    print(\"Applying smoothing...\")\n",
        "    return image.smooth_img(func_img, fwhm)\n",
        "\n",
        "def standardize_img(func_img):\n",
        "    print(\"Standardizing functional image (z-scoring)...\")\n",
        "    data = func_img.get_fdata()\n",
        "    mean = np.mean(data, axis=-1, keepdims=True)\n",
        "    std = np.std(data, axis=-1, keepdims=True)\n",
        "    standardized_data = (data - mean) / std\n",
        "    return nib.Nifti1Image(standardized_data, affine=func_img.affine)\n",
        "\n",
        "def apply_mask(func_img, mask_img=None):\n",
        "    print(\"Applying brain mask...\")\n",
        "    return masking.apply_mask(func_img, mask_img)"
      ],
      "metadata": {
        "id": "Kaz3sS8sFHa7"
      },
      "execution_count": null,
      "outputs": []
    },
    {
      "cell_type": "code",
      "source": [
        "# def plot_2d_slices(img, title=\"Scan Slices\"):\n",
        "#     print(\"Displaying 2D slices...\")\n",
        "#     plotting.plot_anat(img, title=title, display_mode='ortho', draw_cross=True)\n",
        "\n",
        "def plot_3d_glassbrain(img, title=\"3D Glass Brain\"):\n",
        "    print(\"Displaying 3D glass brain...\")\n",
        "    plotting.plot_glass_brain(img, title=title)\n",
        "\n",
        "# def plot_overlay(anat_img, func_img, title=\"Functional Overlay\"):\n",
        "#     print(\"Overlaying functional on anatomical...\")\n",
        "#     plotting.plot_anat(anat_img, title=title, display_mode='ortho')\n",
        "#     plotting.plot_stat_map(func_img, bg_img=anat_img, threshold=1, title=title)"
      ],
      "metadata": {
        "id": "QoAgARX8FHdW"
      },
      "execution_count": null,
      "outputs": []
    },
    {
      "cell_type": "code",
      "source": [
        "def plot_2d(img, title=\"\"):\n",
        "    \"\"\"\n",
        "    Plots a 3D anatomical or functional brain image.\n",
        "    If a 4D image is passed (e.g., fMRI), it will use the first timepoint.\n",
        "    \"\"\"\n",
        "    if img.ndim == 4:\n",
        "        img = image.index_img(img, 0)\n",
        "    plotting.plot_anat(img, title=title, display_mode='ortho', draw_cross=True)\n",
        "\n",
        "def plot_overlay(anat_img, func_img, title=\"Overlay\"):\n",
        "    \"\"\"\n",
        "    Plots a functional image over an anatomical background.\n",
        "    Accepts 3D or 4D functional images. Defaults to first timepoint for 4D.\n",
        "    \"\"\"\n",
        "    if func_img.ndim == 4:\n",
        "        func_img = image.index_img(func_img, 0)\n",
        "    plotting.plot_stat_map(func_img, bg_img=anat_img, title=title, threshold=1.0)\n"
      ],
      "metadata": {
        "id": "u_RHXU-DIs1N"
      },
      "execution_count": null,
      "outputs": []
    },
    {
      "cell_type": "code",
      "source": [
        "def run_glm(func_img, events_path, t_r=2.0):\n",
        "    print(\"Running First-Level GLM...\")\n",
        "    fmri_glm = FirstLevelModel(t_r=t_r, noise_model='ar1', standardize=True, hrf_model='spm')\n",
        "    fmri_glm = fmri_glm.fit(func_img, events_file=events_path)\n",
        "    z_map = fmri_glm.compute_contrast('task', output_type='z_score')\n",
        "    return z_map"
      ],
      "metadata": {
        "id": "32uHUwWvFHfx"
      },
      "execution_count": null,
      "outputs": []
    },
    {
      "cell_type": "code",
      "source": [
        "from nilearn.masking import compute_epi_mask\n",
        "import pandas as pd\n",
        "from nilearn.glm.first_level import FirstLevelModel\n",
        "from nilearn import plotting"
      ],
      "metadata": {
        "id": "bJJ3WT6ZKI5b"
      },
      "execution_count": null,
      "outputs": []
    },
    {
      "cell_type": "code",
      "source": [
        "mask_img = compute_epi_mask(func_img_smooth)"
      ],
      "metadata": {
        "id": "itEXuWwnKMdA"
      },
      "execution_count": null,
      "outputs": []
    },
    {
      "cell_type": "code",
      "source": [
        "def run_glm_and_plot(func_img, anat_img, events_file, t_r=2.0, title=\"GLM Activation (Z-map)\"):\n",
        "    \"\"\"\n",
        "    Run a GLM on fMRI data using the given events file (tsv) and visualize the resulting z-map.\n",
        "    \"\"\"\n",
        "\n",
        "    events_df = pd.read_csv(events_file, sep='\\t')\n",
        "    print(\"Loaded events file:\")\n",
        "    print(events_df.head())\n",
        "\n",
        "    print(\"Fitting first-level GLM...\")\n",
        "    model = FirstLevelModel(\n",
        "    t_r=t_r,\n",
        "    noise_model='ar1',\n",
        "    standardize=True,\n",
        "    hrf_model='spm',\n",
        "    smoothing_fwhm=None,\n",
        "    mask_img=mask_img\n",
        ")\n",
        "    model = model.fit(func_img, events=events_df)\n",
        "\n",
        "    design = model.design_matrices_[0]\n",
        "    print(f\"Available contrasts: {design.columns.tolist()}\")\n",
        "\n",
        "\n",
        "    contrast = design.columns[1] if len(design.columns) > 1 else design.columns[0]\n",
        "    print(f\"Computing contrast: {contrast}\")\n",
        "\n",
        "\n",
        "    z_map = model.compute_contrast(contrast, output_type='z_score')\n",
        "\n",
        "\n",
        "    print(\"Displaying Z-map...\")\n",
        "    plotting.plot_stat_map(z_map, bg_img=anat_img, title=title, threshold=3.0)\n",
        "    return z_map\n"
      ],
      "metadata": {
        "id": "6d_irBoIJrau"
      },
      "execution_count": null,
      "outputs": []
    },
    {
      "cell_type": "code",
      "source": [
        "base_path = \"/content/drive/My Drive/fMRI Data/fMRI/sub-216\"\n",
        "\n",
        "anat_path = os.path.join(base_path, \"anat\", \"sub-216_T1w.nii.gz\")\n",
        "func_path = os.path.join(base_path, \"func\", \"sub-216_task-shapessocial_bold.nii.gz\")\n",
        "event_path = os.path.join(base_path, \"func\", \"sub-216_task-shapessocial_events.tsv\")\n",
        "\n",
        "anat_img = load_nifti(anat_path)\n",
        "func_img = load_nifti(func_path)\n",
        "\n",
        "func_img_smooth = smooth_img(func_img)\n",
        "func_img_z = standardize_img(func_img_smooth)\n",
        "\n",
        "    # Visualize\n",
        "# plot_2d_slices(anat_img, \"Anatomical Scan\")\n",
        "# plot_2d_slices(func_img_z, \"Functional (z-scored)\")\n",
        "# plot_overlay(anat_img, func_img_z, \"Overlay\")\n",
        "plot_2d(anat_img, \"Anatomical Scan\")"
      ],
      "metadata": {
        "id": "5HNIc_IWFHh-"
      },
      "execution_count": null,
      "outputs": []
    },
    {
      "cell_type": "code",
      "source": [
        "plot_2d(func_img_z, \"Functional (z-scored, t=0)\")"
      ],
      "metadata": {
        "id": "HxUIp5sMJPhy"
      },
      "execution_count": null,
      "outputs": []
    },
    {
      "cell_type": "code",
      "source": [
        "plot_overlay(anat_img, func_img_z, \"Functional Overlay\")"
      ],
      "metadata": {
        "id": "l7WIe2PHJPzV"
      },
      "execution_count": null,
      "outputs": []
    },
    {
      "cell_type": "code",
      "source": [
        "z_map = run_glm_and_plot(func_img_z, anat_img, event_path)\n",
        "z_map"
      ],
      "metadata": {
        "id": "WFA_dCYWFHkj"
      },
      "execution_count": null,
      "outputs": []
    },
    {
      "cell_type": "code",
      "source": [
        "import matplotlib.pyplot as plt\n",
        "import numpy as np\n",
        "import nibabel as nib\n",
        "from nilearn import plotting, image\n",
        "import ipywidgets as widgets\n",
        "from IPython.display import display\n",
        "\n",
        "def show_timepoint_slider(img_4d, bg_img=None):\n",
        "    \"\"\"\n",
        "    Creates an interactive slider to scroll through timepoints in a 4D image.\n",
        "    \"\"\"\n",
        "    n_timepoints = img_4d.shape[-1]\n",
        "\n",
        "    def plot_timepoint(t):\n",
        "        display(image.index_img(img_4d, t))\n",
        "        plotting.plot_stat_map(\n",
        "            image.index_img(img_4d, t),\n",
        "            bg_img=bg_img,\n",
        "            threshold=1.0,\n",
        "            title=f\"Timepoint {t}\",\n",
        "            display_mode='ortho',\n",
        "            cut_coords=(0, 0, 0)\n",
        "        )\n",
        "\n",
        "    slider = widgets.IntSlider(min=0, max=n_timepoints-1, step=1, description='Time:')\n",
        "    widgets.interact(plot_timepoint, t=slider)\n"
      ],
      "metadata": {
        "id": "qq-Ycv4_FHm2"
      },
      "execution_count": null,
      "outputs": []
    },
    {
      "cell_type": "code",
      "source": [
        "def show_mean_fmri(func_img_4d, anat_img=None, title=\"Mean Functional Image\"):\n",
        "    \"\"\"\n",
        "    Calculates and plots the mean image across all timepoints in a 4D functional scan.\n",
        "    \"\"\"\n",
        "    print(\"Computing mean image across time...\")\n",
        "    mean_img = image.mean_img(func_img_4d)\n",
        "    plotting.plot_stat_map(mean_img, bg_img=anat_img, title=title, threshold=1.0)\n",
        "    return mean_img"
      ],
      "metadata": {
        "id": "HkZvaA8WFHo7"
      },
      "execution_count": null,
      "outputs": []
    },
    {
      "cell_type": "code",
      "source": [
        "show_timepoint_slider(func_img_z, bg_img=anat_img)"
      ],
      "metadata": {
        "id": "wRvyKbIOFHrW"
      },
      "execution_count": null,
      "outputs": []
    },
    {
      "cell_type": "code",
      "source": [
        "from nilearn.masking import compute_epi_mask\n",
        "\n",
        "def interactive_glm_contrast_viewer(func_img_glm, func_img_for_mask, anat_img, events_path, t_r=2.0):\n",
        "    \"\"\"\n",
        "    Fits a GLM using an explicit mask and allows interactive visualization of contrasts.\n",
        "    func_img_glm: preprocessed fMRI for GLM (e.g., z-scored or smoothed)\n",
        "    func_img_for_mask: original or smoothed 4D fMRI (not z-scored) for computing brain mask\n",
        "    \"\"\"\n",
        "\n",
        "    events_df = pd.read_csv(events_path, sep='\\t')\n",
        "\n",
        "    print(\"Computing brain mask from non-zscored image...\")\n",
        "    mask_img = compute_epi_mask(func_img_for_mask)\n",
        "\n",
        "    print(\"Fitting GLM with explicit mask...\")\n",
        "    model = FirstLevelModel(\n",
        "        t_r=t_r,\n",
        "        standardize=True,\n",
        "        hrf_model='spm',\n",
        "        mask_img=mask_img\n",
        "    )\n",
        "    model = model.fit(func_img_glm, events=events_df)\n",
        "\n",
        "    design = model.design_matrices_[0]\n",
        "    contrast_names = design.columns.tolist()\n",
        "\n",
        "    def plot_contrast(contrast_name):\n",
        "        z_map = model.compute_contrast(contrast_name, output_type='z_score')\n",
        "        plotting.plot_stat_map(\n",
        "            z_map,\n",
        "            bg_img=anat_img,\n",
        "            title=f\"Z-map for Contrast: {contrast_name}\",\n",
        "            threshold=3.0,\n",
        "            display_mode='ortho',\n",
        "            cut_coords=(0, 0, 0)\n",
        "        )\n",
        "\n",
        "    widgets.interact(plot_contrast, contrast_name=widgets.Dropdown(options=contrast_names))\n"
      ],
      "metadata": {
        "id": "21og_pwaL49w"
      },
      "execution_count": null,
      "outputs": []
    },
    {
      "cell_type": "code",
      "source": [
        "interactive_glm_contrast_viewer(\n",
        "    func_img_glm=func_img_z,\n",
        "    func_img_for_mask=func_img_smooth,\n",
        "    anat_img=anat_img,\n",
        "    events_path=event_path\n",
        ")\n"
      ],
      "metadata": {
        "id": "L9eba-XxL5zz"
      },
      "execution_count": null,
      "outputs": []
    },
    {
      "cell_type": "code",
      "source": [
        "mean_func = show_mean_fmri(func_img_z, anat_img=anat_img)"
      ],
      "metadata": {
        "id": "gu53BTQGFHtq"
      },
      "execution_count": null,
      "outputs": []
    },
    {
      "cell_type": "code",
      "source": [],
      "metadata": {
        "id": "5049y6RyNBtE"
      },
      "execution_count": null,
      "outputs": []
    },
    {
      "cell_type": "code",
      "source": [],
      "metadata": {
        "id": "DoXMouV1NBvx"
      },
      "execution_count": null,
      "outputs": []
    },
    {
      "cell_type": "code",
      "source": [],
      "metadata": {
        "id": "ReqviQwENByb"
      },
      "execution_count": null,
      "outputs": []
    },
    {
      "cell_type": "code",
      "source": [],
      "metadata": {
        "id": "W2OVMMhpNB0u"
      },
      "execution_count": null,
      "outputs": []
    },
    {
      "cell_type": "code",
      "source": [],
      "metadata": {
        "id": "UQ75YhmuNB3V"
      },
      "execution_count": null,
      "outputs": []
    },
    {
      "cell_type": "code",
      "source": [],
      "metadata": {
        "id": "uBZ_C7QhNB5z"
      },
      "execution_count": null,
      "outputs": []
    },
    {
      "cell_type": "code",
      "source": [],
      "metadata": {
        "id": "82te1Z4eNB8g"
      },
      "execution_count": null,
      "outputs": []
    },
    {
      "cell_type": "code",
      "source": [
        "def top_voxel_fits(model, func_img, top_n=5):\n",
        "    \"\"\"\n",
        "    Plot GLM fits for top N voxels with highest model R².\n",
        "    \"\"\"\n",
        "    mask_img = model.mask_img_\n",
        "    masked_data = masking.apply_mask(func_img, mask_img)\n",
        "    predicted = model.predicted[0]\n",
        "\n",
        "    residuals = masked_data - predicted\n",
        "    rss = np.sum(residuals ** 2, axis=0)\n",
        "    tss = np.sum((masked_data - masked_data.mean(axis=0)) ** 2, axis=0)\n",
        "    r_squared = 1 - (rss / tss)\n",
        "\n",
        "    best_voxels = np.argsort(-r_squared)[:top_n]\n",
        "    print(f\"Top {top_n} voxel indices (in mask space):\", best_voxels)\n",
        "\n",
        "    for i, idx in enumerate(best_voxels):\n",
        "        plt.figure(figsize=(10, 3))\n",
        "        plt.plot(model.frame_times, masked_data[:, idx], label='Observed', marker='o')\n",
        "        plt.plot(model.frame_times, predicted[:, idx], label='Predicted', linestyle='--')\n",
        "        plt.title(f\"Top-{i+1} Fit (Voxel Index in Mask: {idx}) - R²: {r_squared[idx]:.3f}\")\n",
        "        plt.xlabel(\"Time (s)\")\n",
        "        plt.ylabel(\"BOLD Signal\")\n",
        "        plt.legend()\n",
        "        plt.tight_layout()\n",
        "        plt.show()\n"
      ],
      "metadata": {
        "id": "ySsB9bjZNB--"
      },
      "execution_count": null,
      "outputs": []
    },
    {
      "cell_type": "code",
      "source": [
        "import ipywidgets as widgets\n",
        "from IPython.display import display\n",
        "\n",
        "def interactive_voxel_fit(model, func_img):\n",
        "    x_widget = widgets.IntSlider(min=0, max=func_img.shape[0]-1, description='x')\n",
        "    y_widget = widgets.IntSlider(min=0, max=func_img.shape[1]-1, description='y')\n",
        "    z_widget = widgets.IntSlider(min=0, max=func_img.shape[2]-1, description='z')\n",
        "\n",
        "    def update(x, y, z):\n",
        "        plot_voxel_fit(model, (x, y, z), func_img)\n",
        "\n",
        "    display(widgets.interactive(update, x=x_widget, y=y_widget, z=z_widget))\n"
      ],
      "metadata": {
        "id": "pgNL13GxNCBf"
      },
      "execution_count": null,
      "outputs": []
    },
    {
      "cell_type": "code",
      "source": [
        "import pandas as pd\n",
        "from nilearn.glm.first_level import FirstLevelModel\n",
        "from nilearn.masking import compute_epi_mask\n",
        "\n",
        "\n",
        "events_df = pd.read_csv(event_path, sep='\\t')\n",
        "\n",
        "\n",
        "mask_img = compute_epi_mask(func_img_smooth)\n",
        "\n",
        "model = FirstLevelModel(\n",
        "    t_r=2.0,\n",
        "    noise_model='ar1',\n",
        "    standardize=True,\n",
        "    hrf_model='spm',\n",
        "    mask_img=mask_img\n",
        ")\n",
        "\n",
        "model = model.fit(func_img_z, events=events_df)"
      ],
      "metadata": {
        "id": "Y0uwi-gkOaRN"
      },
      "execution_count": null,
      "outputs": []
    },
    {
      "cell_type": "code",
      "source": [
        "import numpy as np\n",
        "import matplotlib.pyplot as plt\n",
        "from nilearn import masking\n",
        "\n",
        "def plot_voxel_fit(model, voxel_coords, func_img, mask_img, title=\"GLM Fit at Voxel\"):\n",
        "    \"\"\"\n",
        "    Plot actual vs predicted BOLD signal for a specific voxel (x, y, z) using a provided mask.\n",
        "    \"\"\"\n",
        "    x, y, z = voxel_coords\n",
        "\n",
        "\n",
        "    mask_data = mask_img.get_fdata().astype(bool)\n",
        "\n",
        "\n",
        "    if not mask_data[x, y, z]:\n",
        "        raise ValueError(f\"Voxel {voxel_coords} is outside the mask\")\n",
        "\n",
        "\n",
        "    voxel_index_3d = np.ravel_multi_index((x, y, z), mask_data.shape)\n",
        "\n",
        "\n",
        "    mask_flat = mask_data.flatten()\n",
        "    masked_indices = np.where(mask_flat)[0]\n",
        "\n",
        "    try:\n",
        "        masked_index = np.where(masked_indices == voxel_index_3d)[0][0]\n",
        "    except IndexError:\n",
        "        raise ValueError(f\"Voxel {voxel_coords} is not in the brain mask.\")\n",
        "\n",
        "\n",
        "    actual = masking.apply_mask(func_img, mask_img)[:, masked_index]\n",
        "    predicted = model.predicted[0][:, masked_index]\n",
        "\n",
        "\n",
        "    plt.figure(figsize=(10, 4))\n",
        "    plt.plot(model.frame_times, actual, label='Observed BOLD', marker='o')\n",
        "    plt.plot(model.frame_times, predicted, label='GLM Prediction', linestyle='--')\n",
        "    plt.xlabel(\"Time (s)\")\n",
        "    plt.ylabel(\"Signal\")\n",
        "    plt.title(f\"{title} at voxel {voxel_coords} (mask index {masked_index})\")\n",
        "    plt.legend()\n",
        "    plt.tight_layout()\n",
        "    plt.show()\n",
        "\n"
      ],
      "metadata": {
        "id": "qpwghugHNCEJ"
      },
      "execution_count": null,
      "outputs": []
    },
    {
      "cell_type": "code",
      "source": [
        "model = FirstLevelModel(\n",
        "    t_r=2.0,\n",
        "    noise_model='ar1',\n",
        "    standardize=True,\n",
        "    hrf_model='spm',\n",
        "    mask_img=mask_img,\n",
        "    minimize_memory=False\n",
        ")\n",
        "\n",
        "model = model.fit(func_img_z, events=pd.read_csv(event_path, sep='\\t'))"
      ],
      "metadata": {
        "id": "sduvJojiNHDO"
      },
      "execution_count": null,
      "outputs": []
    },
    {
      "cell_type": "code",
      "source": [
        "import numpy as np\n",
        "import matplotlib.pyplot as plt\n",
        "from nilearn import masking\n",
        "\n",
        "def plot_voxel_fit2(model, voxel_coords, func_img, mask_img, title=\"GLM Fit at Voxel\"):\n",
        "    \"\"\"\n",
        "    Plot actual vs predicted BOLD signal for a specific voxel (x, y, z).\n",
        "    All image objects are accessed safely via .get_fdata().\n",
        "    \"\"\"\n",
        "    x, y, z = voxel_coords\n",
        "\n",
        "    # Convert NIfTI image to NumPy array\n",
        "    mask_data = mask_img.get_fdata().astype(bool)\n",
        "\n",
        "\n",
        "    try:\n",
        "        if not mask_data[x, y, z]:\n",
        "            raise ValueError(f\"Voxel {voxel_coords} is outside the mask\")\n",
        "    except IndexError:\n",
        "        raise ValueError(f\"Voxel {voxel_coords} is outside image bounds\")\n",
        "\n",
        "    flat_index = np.ravel_multi_index((x, y, z), mask_data.shape)\n",
        "    masked_voxel_indices = np.where(mask_data.flatten())[0]\n",
        "\n",
        "    try:\n",
        "        masked_index = np.where(masked_voxel_indices == flat_index)[0][0]\n",
        "    except IndexError:\n",
        "        raise ValueError(f\"Voxel {voxel_coords} not found in the mask\")\n",
        "\n",
        "\n",
        "    actual_ts = masking.apply_mask(func_img, mask_img)[:, masked_index]\n",
        "    predicted_ts = model.predicted[0][:, masked_index]\n",
        "\n",
        "    plt.figure(figsize=(10, 4))\n",
        "    plt.plot(model.frame_times, actual_ts, label=\"Observed BOLD\", marker='o')\n",
        "    plt.plot(model.frame_times, predicted_ts, label=\"Predicted\", linestyle='--')\n",
        "    plt.xlabel(\"Time (s)\")\n",
        "    plt.ylabel(\"Signal\")\n",
        "    plt.title(f\"{title} at voxel {voxel_coords} (mask idx {masked_index})\")\n",
        "    plt.legend()\n",
        "    plt.tight_layout()\n",
        "    plt.show()\n"
      ],
      "metadata": {
        "id": "_agneFDpQEfh"
      },
      "execution_count": null,
      "outputs": []
    },
    {
      "cell_type": "code",
      "source": [
        "plot_voxel_fit2(\n",
        "    model=model,\n",
        "    voxel_coords=(30, 50, 40),\n",
        "    func_img=func_img_z,\n",
        "    mask_img=mask_img\n",
        ")\n"
      ],
      "metadata": {
        "id": "LZpdyvUuNHF5"
      },
      "execution_count": null,
      "outputs": []
    },
    {
      "cell_type": "code",
      "source": [],
      "metadata": {
        "id": "Jp-AHSwuNHIY"
      },
      "execution_count": null,
      "outputs": []
    },
    {
      "cell_type": "code",
      "source": [
        "import numpy as np\n",
        "import matplotlib.pyplot as plt\n",
        "from nilearn import masking\n",
        "\n",
        "def plot_voxel_fit4(model, voxel_coords, func_img, mask_img, title=\"GLM Fit at Voxel\"):\n",
        "    \"\"\"\n",
        "    Plot actual vs predicted BOLD signal for a specific voxel (x, y, z).\n",
        "    Ensures all objects are NumPy arrays before any indexing.\n",
        "    \"\"\"\n",
        "    x, y, z = voxel_coords\n",
        "\n",
        "\n",
        "    if hasattr(mask_img, \"get_fdata\"):\n",
        "        mask_data = mask_img.get_fdata().astype(bool)\n",
        "    else:\n",
        "        mask_data = mask_img.astype(bool)\n",
        "\n",
        "    print(\"Type of mask_data:\", type(mask_data))\n",
        "\n",
        "    try:\n",
        "        if not mask_data[x, y, z]:\n",
        "            raise ValueError(f\"Voxel {voxel_coords} is outside the brain mask.\")\n",
        "    except TypeError as e:\n",
        "        print(\"mask_data IS STILL A NIfTI OBJECT SOMEHOW\")\n",
        "        raise e\n",
        "\n",
        "\n",
        "    observed_matrix = masking.apply_mask(func_img, mask_img)\n",
        "    predicted_matrix = model.predicted[0]\n",
        "\n",
        "\n",
        "    flat_index = np.ravel_multi_index((x, y, z), mask_data.shape)\n",
        "    all_masked_indices = np.where(mask_data.flatten())[0]\n",
        "\n",
        "    try:\n",
        "        masked_index = np.where(all_masked_indices == flat_index)[0][0]\n",
        "    except IndexError:\n",
        "        raise ValueError(f\"Voxel {voxel_coords} not found in mask.\")\n",
        "\n",
        "\n",
        "    plt.figure(figsize=(10, 4))\n",
        "    plt.plot(model.design_matrices_[0].index.values, observed_matrix[:, masked_index], label='Observed BOLD', marker='o')\n",
        "    plt.plot(model.design_matrices_[0].index.values, predicted_matrix[:, masked_index], label='Predicted BOLD', linestyle='--')\n",
        "    plt.xlabel(\"Time (s)\")\n",
        "    plt.ylabel(\"BOLD Signal\")\n",
        "    plt.title(f\"{title} at voxel {voxel_coords} (mask index {masked_index})\")\n",
        "    plt.legend()\n",
        "    plt.tight_layout()\n",
        "    plt.show()\n"
      ],
      "metadata": {
        "id": "c_6g6lGINHKq"
      },
      "execution_count": null,
      "outputs": []
    },
    {
      "cell_type": "code",
      "source": [
        "plot_voxel_fit4(model, voxel_coords=(30, 50, 40), func_img=func_img_z, mask_img=mask_img)\n"
      ],
      "metadata": {
        "id": "jtoV0s9BNHNL"
      },
      "execution_count": null,
      "outputs": []
    },
    {
      "cell_type": "code",
      "source": [],
      "metadata": {
        "id": "9M8sMA5hNHSF"
      },
      "execution_count": null,
      "outputs": []
    }
  ],
  "metadata": {
    "accelerator": "GPU",
    "colab": {
      "gpuType": "T4",
      "provenance": []
    },
    "kernelspec": {
      "display_name": "Python 3",
      "name": "python3"
    },
    "language_info": {
      "name": "python"
    }
  },
  "nbformat": 4,
  "nbformat_minor": 0
}