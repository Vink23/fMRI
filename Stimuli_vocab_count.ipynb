{
  "nbformat": 4,
  "nbformat_minor": 0,
  "metadata": {
    "colab": {
      "provenance": [],
      "authorship_tag": "ABX9TyPPl7JsQ1fMGcga6BtgzK1c"
    },
    "kernelspec": {
      "name": "python3",
      "display_name": "Python 3"
    },
    "language_info": {
      "name": "python"
    }
  },
  "cells": [
    {
      "cell_type": "code",
      "execution_count": null,
      "metadata": {
        "colab": {
          "base_uri": "https://localhost:8080/"
        },
        "id": "HX3Ns2O8hMGw",
        "outputId": "ddb788d3-098d-4621-fe2b-851e478b2dfa"
      },
      "outputs": [
        {
          "output_type": "stream",
          "name": "stdout",
          "text": [
            "Mounted at /content/drive\n"
          ]
        }
      ],
      "source": [
        "from google.colab import drive\n",
        "drive.mount('/content/drive')"
      ]
    },
    {
      "cell_type": "code",
      "source": [
        "import os\n",
        "import pandas as pd\n",
        "from collections import Counter"
      ],
      "metadata": {
        "id": "jCHSZetZiSNv"
      },
      "execution_count": null,
      "outputs": []
    },
    {
      "cell_type": "code",
      "source": [
        "folder_path = '/content/drive/MyDrive/fMRIwork/'"
      ],
      "metadata": {
        "id": "ZiD8ZA--iSLK"
      },
      "execution_count": null,
      "outputs": []
    },
    {
      "cell_type": "code",
      "source": [
        "word_counter = Counter()"
      ],
      "metadata": {
        "id": "reNOUTIpiSIx"
      },
      "execution_count": null,
      "outputs": []
    },
    {
      "cell_type": "code",
      "source": [
        "for filename in os.listdir(folder_path):\n",
        "    if filename.endswith(\".tsv\"):\n",
        "        file_path = os.path.join(folder_path, filename)\n",
        "        try:\n",
        "            df = pd.read_csv(file_path, sep='\\t')\n",
        "            if 'word' in df.columns:\n",
        "                words = df['word'].dropna().astype(str).str.lower()\n",
        "                word_counter.update(words)\n",
        "        except Exception as e:\n",
        "            print(f\"Error reading {filename}: {e}\")"
      ],
      "metadata": {
        "id": "gy3hSXSwiSGd"
      },
      "execution_count": null,
      "outputs": []
    },
    {
      "cell_type": "code",
      "source": [
        "vocab_df = pd.DataFrame(word_counter.items(), columns=['word', 'count']).sort_values(by='count', ascending=False)\n",
        "print(vocab_df.head(20),vocab_df.tail(20))"
      ],
      "metadata": {
        "colab": {
          "base_uri": "https://localhost:8080/"
        },
        "id": "pG28Z9I4iSD6",
        "outputId": "060048e8-9dd1-4f7a-cf05-05be824c8017"
      },
      "execution_count": null,
      "outputs": [
        {
          "output_type": "stream",
          "name": "stdout",
          "text": [
            "          word  count\n",
            "10         the   3388\n",
            "2            a   2871\n",
            "151        i'm   2248\n",
            "7           to   1956\n",
            "5          and   1714\n",
            "3002  southern   1433\n",
            "3009    woman.   1429\n",
            "950          .   1232\n",
            "183        she    963\n",
            "176          i    937\n",
            "123         go    883\n",
            "3010     music    877\n",
            "18          of    739\n",
            "12         was    703\n",
            "860       then    692\n",
            "610         we    621\n",
            "4176    beach.    572\n",
            "71        with    549\n",
            "161        you    515\n",
            "36        that    475                    word  count\n",
            "680               wacky      1\n",
            "678          swallowing      1\n",
            "675             vending      1\n",
            "674               leapt      1\n",
            "4189               womb      1\n",
            "4188            managed      1\n",
            "4187       accomplished      1\n",
            "4186            lecture      1\n",
            "4185         optimistic      1\n",
            "4204                me!      1\n",
            "4203            rachel!      1\n",
            "4202              proud      1\n",
            "4201  enthusiastically,      1\n",
            "4200              mood,      1\n",
            "4199             elated      1\n",
            "4198            singer.      1\n",
            "4197            singer,      1\n",
            "4196              song,      1\n",
            "4195               pick      1\n",
            "4194              idol,      1\n"
          ]
        }
      ]
    },
    {
      "cell_type": "code",
      "source": [
        "vocab_df.to_csv('stimuli_vocab_count.csv', index=False)"
      ],
      "metadata": {
        "id": "Y8PmWaI3lIYU"
      },
      "execution_count": null,
      "outputs": []
    },
    {
      "cell_type": "code",
      "source": [
        "len(vocab_df)"
      ],
      "metadata": {
        "colab": {
          "base_uri": "https://localhost:8080/"
        },
        "id": "x67AKTiWiSBl",
        "outputId": "5cba2760-2334-4cb0-caa8-f43f004be720"
      },
      "execution_count": null,
      "outputs": [
        {
          "output_type": "execute_result",
          "data": {
            "text/plain": [
              "4218"
            ]
          },
          "metadata": {},
          "execution_count": 17
        }
      ]
    },
    {
      "cell_type": "code",
      "source": [
        "less_than_5 = vocab_df[vocab_df['count'] <= 5]\n",
        "len(less_than_5)"
      ],
      "metadata": {
        "colab": {
          "base_uri": "https://localhost:8080/"
        },
        "id": "ROWkQRkNiR_L",
        "outputId": "4c66cf9a-00eb-42ce-92e2-ff5bbd106ddd"
      },
      "execution_count": null,
      "outputs": [
        {
          "output_type": "execute_result",
          "data": {
            "text/plain": [
              "3666"
            ]
          },
          "metadata": {},
          "execution_count": 22
        }
      ]
    }
  ]
}